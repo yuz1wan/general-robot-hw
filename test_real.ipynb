{
 "cells": [
  {
   "cell_type": "code",
   "execution_count": null,
   "metadata": {},
   "outputs": [
    {
     "ename": "",
     "evalue": "",
     "output_type": "error",
     "traceback": [
      "\u001b[1;31m运行具有“rlgpu”的单元格需要ipykernel包。\n",
      "\u001b[1;31m运行以下命令，将 \"ipykernel\" 安装到 Python 环境中。\n",
      "\u001b[1;31m命令: \"conda install -n rlgpu ipykernel --update-deps --force-reinstall\""
     ]
    }
   ],
   "source": [
    "# test jaka\n",
    "\n",
    "# export LD_LIBRARY_PATH=/home/osboxes/Desktop/GeneralRobot/SDK\n",
    "# run before running this script\n",
    "\n",
    "import sys\n",
    "import os\n",
    "sys.path.append(os.path.join(os.path.dirname(__file__), './SDK'))\n",
    "\n",
    "import jkrc    \n",
    "import time    \n",
    "#坐标系    \n",
    "COORD_BASE  = 0    \n",
    "COORD_JOINT = 1    \n",
    "COORD_TOOL  = 2    \n",
    "#运动模式    \n",
    "ABS = 0    \n",
    "INCR= 1    \n",
    "robot = jkrc.RC(\"10.5.5.100\")    \n",
    "# robot.set_debug_mode(1)\n",
    "# print(\"Begin Debug!\")\n",
    "\n",
    "ret = robot.login()    \n",
    "print(\"login: \", ret)\n",
    "\n",
    "\n",
    "power = robot.power_on()  \n",
    "print(\"power: \",power)  \n",
    "robot.enable_robot()    \n",
    "robot.drag_mode_enable(True)    \n",
    "ret = robot.is_in_drag_mode()    \n",
    "print(ret)    "
   ]
  }
 ],
 "metadata": {
  "kernelspec": {
   "display_name": "rlgpu",
   "language": "python",
   "name": "python3"
  },
  "language_info": {
   "name": "python",
   "version": "3.7.12"
  }
 },
 "nbformat": 4,
 "nbformat_minor": 2
}
